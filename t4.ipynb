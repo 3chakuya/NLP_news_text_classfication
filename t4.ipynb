{
 "cells": [
  {
   "cell_type": "markdown",
   "metadata": {},
   "source": [
    "#### Part1:文本表示法（2）\n",
    "##### 现有文本表示方法的缺陷\n",
    "One-hot,Bag of Words,N-gram,TF-IDF转换得到的向量维度很高，同时没有考虑单词间的关系，只是粗略地进行了统计。\n",
    "而深度学习也可以用于文本表示，还可以将其映射到低维空间。\n",
    "##### FastText\n",
    "通过Embedding层将单词映射到稠密空间，然后将句子中所有的单词在Embedding空间中进行平均，进而完成分类操作。\n",
    "所以FastText是一个三层的神经网络，输入层、隐含层和输出层。\n",
    "FastText在文本分类任务上，是优于TF-IDF的：\n",
    "FastText用单词的Embedding叠加获得的文档向量，将相似的句子分为一类\n",
    "FastText学习到的Embedding空间维度比较低，可以快速进行训练"
   ]
  },
  {
   "cell_type": "code",
   "execution_count": 2,
   "metadata": {},
   "outputs": [
    {
     "name": "stdout",
     "output_type": "stream",
     "text": [
      "0.8247372007934332\n"
     ]
    }
   ],
   "source": [
    "import pandas as pd\n",
    "from sklearn.metrics import f1_score\n",
    "\n",
    "# 转换为FastText需要的格式\n",
    "train_df = pd.read_csv('train_set.csv', sep='\\t', nrows=15000)\n",
    "train_df['label_ft'] = '__label__' + train_df['label'].astype(str)\n",
    "train_df[['text','label_ft']].iloc[:-5000].to_csv('train.csv', index=None, header=None, sep='\\t')\n",
    "\n",
    "import fasttext\n",
    "model = fasttext.train_supervised('train.csv', lr=1.0, wordNgrams=2, \n",
    "                                  verbose=2, minCount=1, epoch=25, loss=\"hs\")\n",
    "\n",
    "val_pred = [model.predict(x)[0][0].split('__')[-1] for x in train_df.iloc[-5000:]['text']]\n",
    "print(f1_score(train_df['label'].values[-5000:].astype(str), val_pred, average='macro'))\n",
    "# 0.8247372007934332"
   ]
  },
  {
   "cell_type": "markdown",
   "metadata": {},
   "source": [
    "各个参数的含义：\n",
    "The following arguments are optional:\n",
    "-lr           learning rate [0.05]\n",
    "-lrUpdateRate change the rate of updates for the learning rate [100]\n",
    "-dim          size of word vectors [100]\n",
    "-ws           size of the context window [5]\n",
    "-epoch        number of epochs [5]\n",
    "-minCount     minimal number of word occurences [1]\n",
    "-neg          number of negatives sampled [5]\n",
    "-wordNgrams   max length of word ngram [1]\n",
    "-loss         loss function {ns, hs, softmax} [ns]\n",
    "-bucket       number of buckets [2000000]\n",
    "-minn         min length of char ngram [3]\n",
    "-maxn         max length of char ngram [6]\n",
    "-thread       number of threads [12]\n",
    "-t            sampling threshold [0.0001]\n",
    "-label        labels prefix [__label__]\n",
    "\n"
   ]
  },
  {
   "cell_type": "code",
   "execution_count": 3,
   "metadata": {},
   "outputs": [
    {
     "name": "stdout",
     "output_type": "stream",
     "text": [
      "0.8209196131233184\n"
     ]
    }
   ],
   "source": [
    "import pandas as pd\n",
    "from sklearn.metrics import f1_score\n",
    "\n",
    "# 转换为FastText需要的格式\n",
    "train_df = pd.read_csv('train_set.csv', sep='\\t', nrows=15000)\n",
    "train_df['label_ft'] = '__label__' + train_df['label'].astype(str)\n",
    "train_df[['text','label_ft']].iloc[:-5000].to_csv('train.csv', index=None, header=None, sep='\\t')\n",
    "\n",
    "import fasttext\n",
    "model = fasttext.train_supervised('train.csv', lr=2.0, wordNgrams=4, \n",
    "                                  verbose=2, minCount=1, epoch=30, loss=\"hs\")\n",
    "\n",
    "val_pred = [model.predict(x)[0][0].split('__')[-1] for x in train_df.iloc[-5000:]['text']]\n",
    "print(f1_score(train_df['label'].values[-5000:].astype(str), val_pred, average='macro'))\n",
    "# 0.8209196131233184\n"
   ]
  },
  {
   "cell_type": "code",
   "execution_count": 4,
   "metadata": {},
   "outputs": [
    {
     "name": "stdout",
     "output_type": "stream",
     "text": [
      "0.824791835545759\n"
     ]
    }
   ],
   "source": [
    "import pandas as pd\n",
    "from sklearn.metrics import f1_score\n",
    "\n",
    "# 转换为FastText需要的格式\n",
    "train_df = pd.read_csv('train_set.csv', sep='\\t', nrows=15000)\n",
    "train_df['label_ft'] = '__label__' + train_df['label'].astype(str)\n",
    "train_df[['text','label_ft']].iloc[:-5000].to_csv('train.csv', index=None, header=None, sep='\\t')\n",
    "\n",
    "import fasttext\n",
    "model = fasttext.train_supervised('train.csv', lr=2.0, wordNgrams=4, \n",
    "                                  verbose=2, minCount=1, epoch=25, loss=\"hs\")\n",
    "\n",
    "val_pred = [model.predict(x)[0][0].split('__')[-1] for x in train_df.iloc[-5000:]['text']]\n",
    "print(f1_score(train_df['label'].values[-5000:].astype(str), val_pred, average='macro'))\n",
    "#0.824791835545759"
   ]
  },
  {
   "cell_type": "markdown",
   "metadata": {},
   "source": [
    "我从深度学习学习到的东西就是我不适合深度学习。我也不知道为啥，也不知道咋回事，就硬调。"
   ]
  }
 ],
 "metadata": {
  "kernelspec": {
   "display_name": "Python 3",
   "language": "python",
   "name": "python3"
  },
  "language_info": {
   "codemirror_mode": {
    "name": "ipython",
    "version": 3
   },
   "file_extension": ".py",
   "mimetype": "text/x-python",
   "name": "python",
   "nbconvert_exporter": "python",
   "pygments_lexer": "ipython3",
   "version": "3.7.6"
  }
 },
 "nbformat": 4,
 "nbformat_minor": 4
}
